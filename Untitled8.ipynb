{
  "nbformat": 4,
  "nbformat_minor": 0,
  "metadata": {
    "colab": {
      "provenance": []
    },
    "kernelspec": {
      "name": "python3",
      "display_name": "Python 3"
    },
    "language_info": {
      "name": "python"
    }
  },
  "cells": [
    {
      "cell_type": "code",
      "execution_count": 1,
      "metadata": {
        "colab": {
          "base_uri": "https://localhost:8080/",
          "height": 424
        },
        "id": "Wc5JKGihi6nE",
        "outputId": "d4fe6714-b731-409c-ad3c-c382e10a2851"
      },
      "outputs": [
        {
          "output_type": "stream",
          "name": "stdout",
          "text": [
            "(9248, 5)\n"
          ]
        },
        {
          "output_type": "execute_result",
          "data": {
            "text/plain": [
              "                                     Initial Solution  \\\n",
              "5   [['D0', 'C61', 'D0'], ['D0', 'C24', 'C50', 'D0...   \n",
              "21  [['D0', 'C24', 'D0'], ['D0', 'C26', 'C25', 'D0...   \n",
              "30  [['D0', 'C26', 'C25', 'D0'], ['D0', 'C6', 'C91...   \n",
              "37  [['D0', 'C26', 'C25', 'D0'], ['D0', 'C91', 'C6...   \n",
              "40  [['D0', 'C26', 'C25', 'D0'], ['D0', 'C91', 'D0...   \n",
              "43  [['D0', 'C26', 'C25', 'D0'], ['D0', 'C91', 'D0...   \n",
              "46  [['D0', 'C26', 'C25', 'D0'], ['D0', 'C6', 'C24...   \n",
              "47  [['D0', 'C26', 'C25', 'D0'], ['D0', 'C24', 'C6...   \n",
              "49  [['D0', 'C26', 'C25', 'D0'], ['D0', 'C24', 'C6...   \n",
              "50  [['D0', 'C26', 'C25', 'D0'], ['D0', 'C24', 'C6...   \n",
              "\n",
              "                                                Moves         OFIS  \\\n",
              "5   ['null', 'null', 'ProbabilisticWorstRemovalCus...  30978.64707   \n",
              "21  ['null', 'null', 'WorstTimeDestroyCustomer', '...  26301.09614   \n",
              "30  ['null', 'null', 'WorstTimeDestroyCustomer', '...  23702.14047   \n",
              "37  ['null', 'null', 'RandomRouteDestroyCustomer',...  18726.22750   \n",
              "40  ['null', 'null', 'TimeBasedDestroyCustomer', '...  17507.99998   \n",
              "43  ['null', 'null', 'WorstDistanceDestroyCustomer...  17471.76518   \n",
              "46  ['null', 'null', 'WorstDistanceDestroyCustomer...  17469.41941   \n",
              "47  ['null', 'null', 'DemandBasedDestroyCustomer',...  16251.78228   \n",
              "49  ['RandomDestroyStation', 'DeterministicBestRep...  16249.43924   \n",
              "50  ['null', 'null', 'WorstTimeDestroyCustomer', '...  16221.64776   \n",
              "\n",
              "           OFFS      OF_Diff  \n",
              "5   26301.09614  4677.550934  \n",
              "21  23702.14047  2598.955662  \n",
              "30  18726.22750  4975.912973  \n",
              "37  17507.99998  1218.227524  \n",
              "40  17471.76518    36.234795  \n",
              "43  17469.41941     2.345772  \n",
              "46  16251.78228  1217.637127  \n",
              "47  16249.43924     2.343046  \n",
              "49  16221.64776    27.791482  \n",
              "50  15005.40910  1216.238655  "
            ],
            "text/html": [
              "\n",
              "  <div id=\"df-29d3f67a-6efc-421e-927c-82960e2538d6\">\n",
              "    <div class=\"colab-df-container\">\n",
              "      <div>\n",
              "<style scoped>\n",
              "    .dataframe tbody tr th:only-of-type {\n",
              "        vertical-align: middle;\n",
              "    }\n",
              "\n",
              "    .dataframe tbody tr th {\n",
              "        vertical-align: top;\n",
              "    }\n",
              "\n",
              "    .dataframe thead th {\n",
              "        text-align: right;\n",
              "    }\n",
              "</style>\n",
              "<table border=\"1\" class=\"dataframe\">\n",
              "  <thead>\n",
              "    <tr style=\"text-align: right;\">\n",
              "      <th></th>\n",
              "      <th>Initial Solution</th>\n",
              "      <th>Moves</th>\n",
              "      <th>OFIS</th>\n",
              "      <th>OFFS</th>\n",
              "      <th>OF_Diff</th>\n",
              "    </tr>\n",
              "  </thead>\n",
              "  <tbody>\n",
              "    <tr>\n",
              "      <th>5</th>\n",
              "      <td>[['D0', 'C61', 'D0'], ['D0', 'C24', 'C50', 'D0...</td>\n",
              "      <td>['null', 'null', 'ProbabilisticWorstRemovalCus...</td>\n",
              "      <td>30978.64707</td>\n",
              "      <td>26301.09614</td>\n",
              "      <td>4677.550934</td>\n",
              "    </tr>\n",
              "    <tr>\n",
              "      <th>21</th>\n",
              "      <td>[['D0', 'C24', 'D0'], ['D0', 'C26', 'C25', 'D0...</td>\n",
              "      <td>['null', 'null', 'WorstTimeDestroyCustomer', '...</td>\n",
              "      <td>26301.09614</td>\n",
              "      <td>23702.14047</td>\n",
              "      <td>2598.955662</td>\n",
              "    </tr>\n",
              "    <tr>\n",
              "      <th>30</th>\n",
              "      <td>[['D0', 'C26', 'C25', 'D0'], ['D0', 'C6', 'C91...</td>\n",
              "      <td>['null', 'null', 'WorstTimeDestroyCustomer', '...</td>\n",
              "      <td>23702.14047</td>\n",
              "      <td>18726.22750</td>\n",
              "      <td>4975.912973</td>\n",
              "    </tr>\n",
              "    <tr>\n",
              "      <th>37</th>\n",
              "      <td>[['D0', 'C26', 'C25', 'D0'], ['D0', 'C91', 'C6...</td>\n",
              "      <td>['null', 'null', 'RandomRouteDestroyCustomer',...</td>\n",
              "      <td>18726.22750</td>\n",
              "      <td>17507.99998</td>\n",
              "      <td>1218.227524</td>\n",
              "    </tr>\n",
              "    <tr>\n",
              "      <th>40</th>\n",
              "      <td>[['D0', 'C26', 'C25', 'D0'], ['D0', 'C91', 'D0...</td>\n",
              "      <td>['null', 'null', 'TimeBasedDestroyCustomer', '...</td>\n",
              "      <td>17507.99998</td>\n",
              "      <td>17471.76518</td>\n",
              "      <td>36.234795</td>\n",
              "    </tr>\n",
              "    <tr>\n",
              "      <th>43</th>\n",
              "      <td>[['D0', 'C26', 'C25', 'D0'], ['D0', 'C91', 'D0...</td>\n",
              "      <td>['null', 'null', 'WorstDistanceDestroyCustomer...</td>\n",
              "      <td>17471.76518</td>\n",
              "      <td>17469.41941</td>\n",
              "      <td>2.345772</td>\n",
              "    </tr>\n",
              "    <tr>\n",
              "      <th>46</th>\n",
              "      <td>[['D0', 'C26', 'C25', 'D0'], ['D0', 'C6', 'C24...</td>\n",
              "      <td>['null', 'null', 'WorstDistanceDestroyCustomer...</td>\n",
              "      <td>17469.41941</td>\n",
              "      <td>16251.78228</td>\n",
              "      <td>1217.637127</td>\n",
              "    </tr>\n",
              "    <tr>\n",
              "      <th>47</th>\n",
              "      <td>[['D0', 'C26', 'C25', 'D0'], ['D0', 'C24', 'C6...</td>\n",
              "      <td>['null', 'null', 'DemandBasedDestroyCustomer',...</td>\n",
              "      <td>16251.78228</td>\n",
              "      <td>16249.43924</td>\n",
              "      <td>2.343046</td>\n",
              "    </tr>\n",
              "    <tr>\n",
              "      <th>49</th>\n",
              "      <td>[['D0', 'C26', 'C25', 'D0'], ['D0', 'C24', 'C6...</td>\n",
              "      <td>['RandomDestroyStation', 'DeterministicBestRep...</td>\n",
              "      <td>16249.43924</td>\n",
              "      <td>16221.64776</td>\n",
              "      <td>27.791482</td>\n",
              "    </tr>\n",
              "    <tr>\n",
              "      <th>50</th>\n",
              "      <td>[['D0', 'C26', 'C25', 'D0'], ['D0', 'C24', 'C6...</td>\n",
              "      <td>['null', 'null', 'WorstTimeDestroyCustomer', '...</td>\n",
              "      <td>16221.64776</td>\n",
              "      <td>15005.40910</td>\n",
              "      <td>1216.238655</td>\n",
              "    </tr>\n",
              "  </tbody>\n",
              "</table>\n",
              "</div>\n",
              "      <button class=\"colab-df-convert\" onclick=\"convertToInteractive('df-29d3f67a-6efc-421e-927c-82960e2538d6')\"\n",
              "              title=\"Convert this dataframe to an interactive table.\"\n",
              "              style=\"display:none;\">\n",
              "        \n",
              "  <svg xmlns=\"http://www.w3.org/2000/svg\" height=\"24px\"viewBox=\"0 0 24 24\"\n",
              "       width=\"24px\">\n",
              "    <path d=\"M0 0h24v24H0V0z\" fill=\"none\"/>\n",
              "    <path d=\"M18.56 5.44l.94 2.06.94-2.06 2.06-.94-2.06-.94-.94-2.06-.94 2.06-2.06.94zm-11 1L8.5 8.5l.94-2.06 2.06-.94-2.06-.94L8.5 2.5l-.94 2.06-2.06.94zm10 10l.94 2.06.94-2.06 2.06-.94-2.06-.94-.94-2.06-.94 2.06-2.06.94z\"/><path d=\"M17.41 7.96l-1.37-1.37c-.4-.4-.92-.59-1.43-.59-.52 0-1.04.2-1.43.59L10.3 9.45l-7.72 7.72c-.78.78-.78 2.05 0 2.83L4 21.41c.39.39.9.59 1.41.59.51 0 1.02-.2 1.41-.59l7.78-7.78 2.81-2.81c.8-.78.8-2.07 0-2.86zM5.41 20L4 18.59l7.72-7.72 1.47 1.35L5.41 20z\"/>\n",
              "  </svg>\n",
              "      </button>\n",
              "      \n",
              "  <style>\n",
              "    .colab-df-container {\n",
              "      display:flex;\n",
              "      flex-wrap:wrap;\n",
              "      gap: 12px;\n",
              "    }\n",
              "\n",
              "    .colab-df-convert {\n",
              "      background-color: #E8F0FE;\n",
              "      border: none;\n",
              "      border-radius: 50%;\n",
              "      cursor: pointer;\n",
              "      display: none;\n",
              "      fill: #1967D2;\n",
              "      height: 32px;\n",
              "      padding: 0 0 0 0;\n",
              "      width: 32px;\n",
              "    }\n",
              "\n",
              "    .colab-df-convert:hover {\n",
              "      background-color: #E2EBFA;\n",
              "      box-shadow: 0px 1px 2px rgba(60, 64, 67, 0.3), 0px 1px 3px 1px rgba(60, 64, 67, 0.15);\n",
              "      fill: #174EA6;\n",
              "    }\n",
              "\n",
              "    [theme=dark] .colab-df-convert {\n",
              "      background-color: #3B4455;\n",
              "      fill: #D2E3FC;\n",
              "    }\n",
              "\n",
              "    [theme=dark] .colab-df-convert:hover {\n",
              "      background-color: #434B5C;\n",
              "      box-shadow: 0px 1px 3px 1px rgba(0, 0, 0, 0.15);\n",
              "      filter: drop-shadow(0px 1px 2px rgba(0, 0, 0, 0.3));\n",
              "      fill: #FFFFFF;\n",
              "    }\n",
              "  </style>\n",
              "\n",
              "      <script>\n",
              "        const buttonEl =\n",
              "          document.querySelector('#df-29d3f67a-6efc-421e-927c-82960e2538d6 button.colab-df-convert');\n",
              "        buttonEl.style.display =\n",
              "          google.colab.kernel.accessAllowed ? 'block' : 'none';\n",
              "\n",
              "        async function convertToInteractive(key) {\n",
              "          const element = document.querySelector('#df-29d3f67a-6efc-421e-927c-82960e2538d6');\n",
              "          const dataTable =\n",
              "            await google.colab.kernel.invokeFunction('convertToInteractive',\n",
              "                                                     [key], {});\n",
              "          if (!dataTable) return;\n",
              "\n",
              "          const docLinkHtml = 'Like what you see? Visit the ' +\n",
              "            '<a target=\"_blank\" href=https://colab.research.google.com/notebooks/data_table.ipynb>data table notebook</a>'\n",
              "            + ' to learn more about interactive tables.';\n",
              "          element.innerHTML = '';\n",
              "          dataTable['output_type'] = 'display_data';\n",
              "          await google.colab.output.renderOutput(dataTable, element);\n",
              "          const docLink = document.createElement('div');\n",
              "          docLink.innerHTML = docLinkHtml;\n",
              "          element.appendChild(docLink);\n",
              "        }\n",
              "      </script>\n",
              "    </div>\n",
              "  </div>\n",
              "  "
            ]
          },
          "metadata": {},
          "execution_count": 1
        }
      ],
      "source": [
        "import pandas as pd\n",
        "import numpy as np\n",
        "import warnings\n",
        "from PIL import Image\n",
        "\n",
        "warnings.simplefilter(action='ignore', category=FutureWarning)\n",
        "pd.set_option('display.max_columns', None)\n",
        "\n",
        "path = \"/content/DB-Output_original.csv\"\n",
        "data = pd.read_csv(path)\n",
        "\n",
        "data = data.loc[:, ['Initial Solution', 'Moves', 'OFIS', 'OFFS', 'OF_Diff']]\n",
        "data = data[data.OF_Diff != 0]\n",
        "#data = data.reset_index(drop=False)\n",
        "\n",
        "print(data.shape)\n",
        "data.head(10)"
      ]
    },
    {
      "cell_type": "code",
      "source": [
        "mv = data[\"Moves\"]\n",
        "moves = []\n",
        "for row in mv:\n",
        "    for elem in row.split(\"', '\"):\n",
        "        moves.append(elem)\n",
        "\n",
        "for i in range(len(moves)):\n",
        "    moves[i] = moves[i].replace(\"['\",\"\")\n",
        "    moves[i] = moves[i].replace(\"']\",\"\")\n",
        "\n",
        "to_remove = \"null\"\n",
        "moves = list(filter(lambda x: x != to_remove, moves))\n",
        "\n",
        "moves=list(set(moves))\n",
        "\n",
        "print(\"List off\", len(moves), \"possible e different moves: \\n\", moves)"
      ],
      "metadata": {
        "colab": {
          "base_uri": "https://localhost:8080/"
        },
        "id": "sXcU7edelCKp",
        "outputId": "46278a72-0493-4ed6-d17b-94dc71954ee0"
      },
      "execution_count": 2,
      "outputs": [
        {
          "output_type": "stream",
          "name": "stdout",
          "text": [
            "List off 16 possible e different moves: \n",
            " ['LongestWaitingTimeDestroyStation', 'ProbabilisticWorstRemovalCustomer', 'WorstDistanceDestroyCustomer', 'DemandBasedDestroyCustomer', 'GreedyRepairCustomer', 'ShawDestroyCustomer', 'DeterministicBestRepairStation', 'WorstTimeDestroyCustomer', 'TimeBasedDestroyCustomer', 'RandomDestroyStation', 'ProbabilisticBestRepairStation', 'RandomRouteDestroyCustomer', 'GreedyRouteRemoval', 'ProximityBasedDestroyCustomer', 'ZoneDestroyCustomer', 'GreedyDestroyCustomer']\n"
          ]
        }
      ]
    },
    {
      "cell_type": "code",
      "source": [
        "data[\"Moves\"] = data[\"Moves\"].str.replace(\"[\",\"\")\n",
        "data[\"Moves\"] = data[\"Moves\"].str.replace(\"]\",\"\")\n",
        "data[\"Moves\"] = data[\"Moves\"].str.replace(\"'\",\"\")\n",
        "data.head(10)\n"
      ],
      "metadata": {
        "colab": {
          "base_uri": "https://localhost:8080/",
          "height": 739
        },
        "id": "UUu5xAylnyhP",
        "outputId": "3f6269b1-86f2-4b25-fb35-98f2ea252dcf"
      },
      "execution_count": 3,
      "outputs": [
        {
          "output_type": "stream",
          "name": "stderr",
          "text": [
            "<ipython-input-3-8a1e8c0625ab>:1: SettingWithCopyWarning: \n",
            "A value is trying to be set on a copy of a slice from a DataFrame.\n",
            "Try using .loc[row_indexer,col_indexer] = value instead\n",
            "\n",
            "See the caveats in the documentation: https://pandas.pydata.org/pandas-docs/stable/user_guide/indexing.html#returning-a-view-versus-a-copy\n",
            "  data[\"Moves\"] = data[\"Moves\"].str.replace(\"[\",\"\")\n",
            "<ipython-input-3-8a1e8c0625ab>:2: SettingWithCopyWarning: \n",
            "A value is trying to be set on a copy of a slice from a DataFrame.\n",
            "Try using .loc[row_indexer,col_indexer] = value instead\n",
            "\n",
            "See the caveats in the documentation: https://pandas.pydata.org/pandas-docs/stable/user_guide/indexing.html#returning-a-view-versus-a-copy\n",
            "  data[\"Moves\"] = data[\"Moves\"].str.replace(\"]\",\"\")\n",
            "<ipython-input-3-8a1e8c0625ab>:3: SettingWithCopyWarning: \n",
            "A value is trying to be set on a copy of a slice from a DataFrame.\n",
            "Try using .loc[row_indexer,col_indexer] = value instead\n",
            "\n",
            "See the caveats in the documentation: https://pandas.pydata.org/pandas-docs/stable/user_guide/indexing.html#returning-a-view-versus-a-copy\n",
            "  data[\"Moves\"] = data[\"Moves\"].str.replace(\"'\",\"\")\n"
          ]
        },
        {
          "output_type": "execute_result",
          "data": {
            "text/plain": [
              "                                     Initial Solution  \\\n",
              "5   [['D0', 'C61', 'D0'], ['D0', 'C24', 'C50', 'D0...   \n",
              "21  [['D0', 'C24', 'D0'], ['D0', 'C26', 'C25', 'D0...   \n",
              "30  [['D0', 'C26', 'C25', 'D0'], ['D0', 'C6', 'C91...   \n",
              "37  [['D0', 'C26', 'C25', 'D0'], ['D0', 'C91', 'C6...   \n",
              "40  [['D0', 'C26', 'C25', 'D0'], ['D0', 'C91', 'D0...   \n",
              "43  [['D0', 'C26', 'C25', 'D0'], ['D0', 'C91', 'D0...   \n",
              "46  [['D0', 'C26', 'C25', 'D0'], ['D0', 'C6', 'C24...   \n",
              "47  [['D0', 'C26', 'C25', 'D0'], ['D0', 'C24', 'C6...   \n",
              "49  [['D0', 'C26', 'C25', 'D0'], ['D0', 'C24', 'C6...   \n",
              "50  [['D0', 'C26', 'C25', 'D0'], ['D0', 'C24', 'C6...   \n",
              "\n",
              "                                                Moves         OFIS  \\\n",
              "5   null, null, ProbabilisticWorstRemovalCustomer,...  30978.64707   \n",
              "21  null, null, WorstTimeDestroyCustomer, GreedyRe...  26301.09614   \n",
              "30  null, null, WorstTimeDestroyCustomer, GreedyRe...  23702.14047   \n",
              "37  null, null, RandomRouteDestroyCustomer, Greedy...  18726.22750   \n",
              "40  null, null, TimeBasedDestroyCustomer, GreedyRe...  17507.99998   \n",
              "43  null, null, WorstDistanceDestroyCustomer, Gree...  17471.76518   \n",
              "46  null, null, WorstDistanceDestroyCustomer, Gree...  17469.41941   \n",
              "47  null, null, DemandBasedDestroyCustomer, Greedy...  16251.78228   \n",
              "49  RandomDestroyStation, DeterministicBestRepairS...  16249.43924   \n",
              "50  null, null, WorstTimeDestroyCustomer, GreedyRe...  16221.64776   \n",
              "\n",
              "           OFFS      OF_Diff  \n",
              "5   26301.09614  4677.550934  \n",
              "21  23702.14047  2598.955662  \n",
              "30  18726.22750  4975.912973  \n",
              "37  17507.99998  1218.227524  \n",
              "40  17471.76518    36.234795  \n",
              "43  17469.41941     2.345772  \n",
              "46  16251.78228  1217.637127  \n",
              "47  16249.43924     2.343046  \n",
              "49  16221.64776    27.791482  \n",
              "50  15005.40910  1216.238655  "
            ],
            "text/html": [
              "\n",
              "  <div id=\"df-65c274ab-e5fb-4871-ac2c-667761f35478\">\n",
              "    <div class=\"colab-df-container\">\n",
              "      <div>\n",
              "<style scoped>\n",
              "    .dataframe tbody tr th:only-of-type {\n",
              "        vertical-align: middle;\n",
              "    }\n",
              "\n",
              "    .dataframe tbody tr th {\n",
              "        vertical-align: top;\n",
              "    }\n",
              "\n",
              "    .dataframe thead th {\n",
              "        text-align: right;\n",
              "    }\n",
              "</style>\n",
              "<table border=\"1\" class=\"dataframe\">\n",
              "  <thead>\n",
              "    <tr style=\"text-align: right;\">\n",
              "      <th></th>\n",
              "      <th>Initial Solution</th>\n",
              "      <th>Moves</th>\n",
              "      <th>OFIS</th>\n",
              "      <th>OFFS</th>\n",
              "      <th>OF_Diff</th>\n",
              "    </tr>\n",
              "  </thead>\n",
              "  <tbody>\n",
              "    <tr>\n",
              "      <th>5</th>\n",
              "      <td>[['D0', 'C61', 'D0'], ['D0', 'C24', 'C50', 'D0...</td>\n",
              "      <td>null, null, ProbabilisticWorstRemovalCustomer,...</td>\n",
              "      <td>30978.64707</td>\n",
              "      <td>26301.09614</td>\n",
              "      <td>4677.550934</td>\n",
              "    </tr>\n",
              "    <tr>\n",
              "      <th>21</th>\n",
              "      <td>[['D0', 'C24', 'D0'], ['D0', 'C26', 'C25', 'D0...</td>\n",
              "      <td>null, null, WorstTimeDestroyCustomer, GreedyRe...</td>\n",
              "      <td>26301.09614</td>\n",
              "      <td>23702.14047</td>\n",
              "      <td>2598.955662</td>\n",
              "    </tr>\n",
              "    <tr>\n",
              "      <th>30</th>\n",
              "      <td>[['D0', 'C26', 'C25', 'D0'], ['D0', 'C6', 'C91...</td>\n",
              "      <td>null, null, WorstTimeDestroyCustomer, GreedyRe...</td>\n",
              "      <td>23702.14047</td>\n",
              "      <td>18726.22750</td>\n",
              "      <td>4975.912973</td>\n",
              "    </tr>\n",
              "    <tr>\n",
              "      <th>37</th>\n",
              "      <td>[['D0', 'C26', 'C25', 'D0'], ['D0', 'C91', 'C6...</td>\n",
              "      <td>null, null, RandomRouteDestroyCustomer, Greedy...</td>\n",
              "      <td>18726.22750</td>\n",
              "      <td>17507.99998</td>\n",
              "      <td>1218.227524</td>\n",
              "    </tr>\n",
              "    <tr>\n",
              "      <th>40</th>\n",
              "      <td>[['D0', 'C26', 'C25', 'D0'], ['D0', 'C91', 'D0...</td>\n",
              "      <td>null, null, TimeBasedDestroyCustomer, GreedyRe...</td>\n",
              "      <td>17507.99998</td>\n",
              "      <td>17471.76518</td>\n",
              "      <td>36.234795</td>\n",
              "    </tr>\n",
              "    <tr>\n",
              "      <th>43</th>\n",
              "      <td>[['D0', 'C26', 'C25', 'D0'], ['D0', 'C91', 'D0...</td>\n",
              "      <td>null, null, WorstDistanceDestroyCustomer, Gree...</td>\n",
              "      <td>17471.76518</td>\n",
              "      <td>17469.41941</td>\n",
              "      <td>2.345772</td>\n",
              "    </tr>\n",
              "    <tr>\n",
              "      <th>46</th>\n",
              "      <td>[['D0', 'C26', 'C25', 'D0'], ['D0', 'C6', 'C24...</td>\n",
              "      <td>null, null, WorstDistanceDestroyCustomer, Gree...</td>\n",
              "      <td>17469.41941</td>\n",
              "      <td>16251.78228</td>\n",
              "      <td>1217.637127</td>\n",
              "    </tr>\n",
              "    <tr>\n",
              "      <th>47</th>\n",
              "      <td>[['D0', 'C26', 'C25', 'D0'], ['D0', 'C24', 'C6...</td>\n",
              "      <td>null, null, DemandBasedDestroyCustomer, Greedy...</td>\n",
              "      <td>16251.78228</td>\n",
              "      <td>16249.43924</td>\n",
              "      <td>2.343046</td>\n",
              "    </tr>\n",
              "    <tr>\n",
              "      <th>49</th>\n",
              "      <td>[['D0', 'C26', 'C25', 'D0'], ['D0', 'C24', 'C6...</td>\n",
              "      <td>RandomDestroyStation, DeterministicBestRepairS...</td>\n",
              "      <td>16249.43924</td>\n",
              "      <td>16221.64776</td>\n",
              "      <td>27.791482</td>\n",
              "    </tr>\n",
              "    <tr>\n",
              "      <th>50</th>\n",
              "      <td>[['D0', 'C26', 'C25', 'D0'], ['D0', 'C24', 'C6...</td>\n",
              "      <td>null, null, WorstTimeDestroyCustomer, GreedyRe...</td>\n",
              "      <td>16221.64776</td>\n",
              "      <td>15005.40910</td>\n",
              "      <td>1216.238655</td>\n",
              "    </tr>\n",
              "  </tbody>\n",
              "</table>\n",
              "</div>\n",
              "      <button class=\"colab-df-convert\" onclick=\"convertToInteractive('df-65c274ab-e5fb-4871-ac2c-667761f35478')\"\n",
              "              title=\"Convert this dataframe to an interactive table.\"\n",
              "              style=\"display:none;\">\n",
              "        \n",
              "  <svg xmlns=\"http://www.w3.org/2000/svg\" height=\"24px\"viewBox=\"0 0 24 24\"\n",
              "       width=\"24px\">\n",
              "    <path d=\"M0 0h24v24H0V0z\" fill=\"none\"/>\n",
              "    <path d=\"M18.56 5.44l.94 2.06.94-2.06 2.06-.94-2.06-.94-.94-2.06-.94 2.06-2.06.94zm-11 1L8.5 8.5l.94-2.06 2.06-.94-2.06-.94L8.5 2.5l-.94 2.06-2.06.94zm10 10l.94 2.06.94-2.06 2.06-.94-2.06-.94-.94-2.06-.94 2.06-2.06.94z\"/><path d=\"M17.41 7.96l-1.37-1.37c-.4-.4-.92-.59-1.43-.59-.52 0-1.04.2-1.43.59L10.3 9.45l-7.72 7.72c-.78.78-.78 2.05 0 2.83L4 21.41c.39.39.9.59 1.41.59.51 0 1.02-.2 1.41-.59l7.78-7.78 2.81-2.81c.8-.78.8-2.07 0-2.86zM5.41 20L4 18.59l7.72-7.72 1.47 1.35L5.41 20z\"/>\n",
              "  </svg>\n",
              "      </button>\n",
              "      \n",
              "  <style>\n",
              "    .colab-df-container {\n",
              "      display:flex;\n",
              "      flex-wrap:wrap;\n",
              "      gap: 12px;\n",
              "    }\n",
              "\n",
              "    .colab-df-convert {\n",
              "      background-color: #E8F0FE;\n",
              "      border: none;\n",
              "      border-radius: 50%;\n",
              "      cursor: pointer;\n",
              "      display: none;\n",
              "      fill: #1967D2;\n",
              "      height: 32px;\n",
              "      padding: 0 0 0 0;\n",
              "      width: 32px;\n",
              "    }\n",
              "\n",
              "    .colab-df-convert:hover {\n",
              "      background-color: #E2EBFA;\n",
              "      box-shadow: 0px 1px 2px rgba(60, 64, 67, 0.3), 0px 1px 3px 1px rgba(60, 64, 67, 0.15);\n",
              "      fill: #174EA6;\n",
              "    }\n",
              "\n",
              "    [theme=dark] .colab-df-convert {\n",
              "      background-color: #3B4455;\n",
              "      fill: #D2E3FC;\n",
              "    }\n",
              "\n",
              "    [theme=dark] .colab-df-convert:hover {\n",
              "      background-color: #434B5C;\n",
              "      box-shadow: 0px 1px 3px 1px rgba(0, 0, 0, 0.15);\n",
              "      filter: drop-shadow(0px 1px 2px rgba(0, 0, 0, 0.3));\n",
              "      fill: #FFFFFF;\n",
              "    }\n",
              "  </style>\n",
              "\n",
              "      <script>\n",
              "        const buttonEl =\n",
              "          document.querySelector('#df-65c274ab-e5fb-4871-ac2c-667761f35478 button.colab-df-convert');\n",
              "        buttonEl.style.display =\n",
              "          google.colab.kernel.accessAllowed ? 'block' : 'none';\n",
              "\n",
              "        async function convertToInteractive(key) {\n",
              "          const element = document.querySelector('#df-65c274ab-e5fb-4871-ac2c-667761f35478');\n",
              "          const dataTable =\n",
              "            await google.colab.kernel.invokeFunction('convertToInteractive',\n",
              "                                                     [key], {});\n",
              "          if (!dataTable) return;\n",
              "\n",
              "          const docLinkHtml = 'Like what you see? Visit the ' +\n",
              "            '<a target=\"_blank\" href=https://colab.research.google.com/notebooks/data_table.ipynb>data table notebook</a>'\n",
              "            + ' to learn more about interactive tables.';\n",
              "          element.innerHTML = '';\n",
              "          dataTable['output_type'] = 'display_data';\n",
              "          await google.colab.output.renderOutput(dataTable, element);\n",
              "          const docLink = document.createElement('div');\n",
              "          docLink.innerHTML = docLinkHtml;\n",
              "          element.appendChild(docLink);\n",
              "        }\n",
              "      </script>\n",
              "    </div>\n",
              "  </div>\n",
              "  "
            ]
          },
          "metadata": {},
          "execution_count": 3
        }
      ]
    },
    {
      "cell_type": "code",
      "source": [
        "user_input = input(\"Insert one of 16 possibly moves: \")\n",
        "data = data.loc[data['Moves'].str.contains(user_input)]\n",
        "data"
      ],
      "metadata": {
        "colab": {
          "base_uri": "https://localhost:8080/",
          "height": 659
        },
        "id": "NtLEJbxan3MT",
        "outputId": "7b981ad7-ee1e-40e2-9058-f114658a1d13"
      },
      "execution_count": 4,
      "outputs": [
        {
          "name": "stdout",
          "output_type": "stream",
          "text": [
            "Insert one of 16 possibly moves: RandomDestroyStation\n"
          ]
        },
        {
          "output_type": "execute_result",
          "data": {
            "text/plain": [
              "                                        Initial Solution  \\\n",
              "49     [['D0', 'C26', 'C25', 'D0'], ['D0', 'C24', 'C6...   \n",
              "64     [['D0', 'C21', 'C25', 'C24', 'D0'], ['D0', 'C5...   \n",
              "79     [['D0', 'C81', 'S1', 'C85', 'C90', 'D0'], ['D0...   \n",
              "169    [['D0', 'C50', 'S11', 'D0'], ['D0', 'C90', 'C9...   \n",
              "199    [['D0', 'C50', 'D0'], ['D0', 'C90', 'C91', 'C8...   \n",
              "...                                                  ...   \n",
              "35215  [['D0', 'C5', 'C10', 'C11', 'C16', 'C19', 'C18...   \n",
              "35350  [['D0', 'C78', 'C67', 'D0'], ['D0', 'C24', 'D0...   \n",
              "35375  [['D0', 'C24', 'D0'], ['D0', 'C5', 'C77', 'C78...   \n",
              "35385  [['D0', 'C5', 'C2', 'C1', 'C14', 'C25', 'C21',...   \n",
              "35390  [['D0', 'C5', 'C2', 'C1', 'C14', 'C25', 'S9', ...   \n",
              "\n",
              "                                                   Moves          OFIS  \\\n",
              "49     RandomDestroyStation, DeterministicBestRepairS...  16249.439240   \n",
              "64     RandomDestroyStation, ProbabilisticBestRepairS...  14991.375650   \n",
              "79     RandomDestroyStation, ProbabilisticBestRepairS...  11347.289090   \n",
              "169    RandomDestroyStation, ProbabilisticBestRepairS...  11388.615630   \n",
              "199    RandomDestroyStation, DeterministicBestRepairS...  10162.383810   \n",
              "...                                                  ...           ...   \n",
              "35215  RandomDestroyStation, DeterministicBestRepairS...  42453.344550   \n",
              "35350  RandomDestroyStation, ProbabilisticBestRepairS...  14742.127590   \n",
              "35375  RandomDestroyStation, DeterministicBestRepairS...   7297.435520   \n",
              "35385  RandomDestroyStation, DeterministicBestRepairS...   4844.669310   \n",
              "35390  RandomDestroyStation, DeterministicBestRepairS...   4838.020483   \n",
              "\n",
              "               OFFS      OF_Diff  \n",
              "49     16221.647760    27.791482  \n",
              "64     13775.899950  1215.475703  \n",
              "79     11335.314740    11.974343  \n",
              "169    11375.960480    12.655152  \n",
              "199    10153.083790     9.300018  \n",
              "...             ...          ...  \n",
              "35215  42085.062130   368.282414  \n",
              "35350  11918.782800  2823.344791  \n",
              "35375   7297.381645     0.053875  \n",
              "35385   4843.734853     0.934457  \n",
              "35390   4811.496557    26.523926  \n",
              "\n",
              "[477 rows x 5 columns]"
            ],
            "text/html": [
              "\n",
              "  <div id=\"df-b1f23a8b-41dc-4737-b7be-63c7b7c31835\">\n",
              "    <div class=\"colab-df-container\">\n",
              "      <div>\n",
              "<style scoped>\n",
              "    .dataframe tbody tr th:only-of-type {\n",
              "        vertical-align: middle;\n",
              "    }\n",
              "\n",
              "    .dataframe tbody tr th {\n",
              "        vertical-align: top;\n",
              "    }\n",
              "\n",
              "    .dataframe thead th {\n",
              "        text-align: right;\n",
              "    }\n",
              "</style>\n",
              "<table border=\"1\" class=\"dataframe\">\n",
              "  <thead>\n",
              "    <tr style=\"text-align: right;\">\n",
              "      <th></th>\n",
              "      <th>Initial Solution</th>\n",
              "      <th>Moves</th>\n",
              "      <th>OFIS</th>\n",
              "      <th>OFFS</th>\n",
              "      <th>OF_Diff</th>\n",
              "    </tr>\n",
              "  </thead>\n",
              "  <tbody>\n",
              "    <tr>\n",
              "      <th>49</th>\n",
              "      <td>[['D0', 'C26', 'C25', 'D0'], ['D0', 'C24', 'C6...</td>\n",
              "      <td>RandomDestroyStation, DeterministicBestRepairS...</td>\n",
              "      <td>16249.439240</td>\n",
              "      <td>16221.647760</td>\n",
              "      <td>27.791482</td>\n",
              "    </tr>\n",
              "    <tr>\n",
              "      <th>64</th>\n",
              "      <td>[['D0', 'C21', 'C25', 'C24', 'D0'], ['D0', 'C5...</td>\n",
              "      <td>RandomDestroyStation, ProbabilisticBestRepairS...</td>\n",
              "      <td>14991.375650</td>\n",
              "      <td>13775.899950</td>\n",
              "      <td>1215.475703</td>\n",
              "    </tr>\n",
              "    <tr>\n",
              "      <th>79</th>\n",
              "      <td>[['D0', 'C81', 'S1', 'C85', 'C90', 'D0'], ['D0...</td>\n",
              "      <td>RandomDestroyStation, ProbabilisticBestRepairS...</td>\n",
              "      <td>11347.289090</td>\n",
              "      <td>11335.314740</td>\n",
              "      <td>11.974343</td>\n",
              "    </tr>\n",
              "    <tr>\n",
              "      <th>169</th>\n",
              "      <td>[['D0', 'C50', 'S11', 'D0'], ['D0', 'C90', 'C9...</td>\n",
              "      <td>RandomDestroyStation, ProbabilisticBestRepairS...</td>\n",
              "      <td>11388.615630</td>\n",
              "      <td>11375.960480</td>\n",
              "      <td>12.655152</td>\n",
              "    </tr>\n",
              "    <tr>\n",
              "      <th>199</th>\n",
              "      <td>[['D0', 'C50', 'D0'], ['D0', 'C90', 'C91', 'C8...</td>\n",
              "      <td>RandomDestroyStation, DeterministicBestRepairS...</td>\n",
              "      <td>10162.383810</td>\n",
              "      <td>10153.083790</td>\n",
              "      <td>9.300018</td>\n",
              "    </tr>\n",
              "    <tr>\n",
              "      <th>...</th>\n",
              "      <td>...</td>\n",
              "      <td>...</td>\n",
              "      <td>...</td>\n",
              "      <td>...</td>\n",
              "      <td>...</td>\n",
              "    </tr>\n",
              "    <tr>\n",
              "      <th>35215</th>\n",
              "      <td>[['D0', 'C5', 'C10', 'C11', 'C16', 'C19', 'C18...</td>\n",
              "      <td>RandomDestroyStation, DeterministicBestRepairS...</td>\n",
              "      <td>42453.344550</td>\n",
              "      <td>42085.062130</td>\n",
              "      <td>368.282414</td>\n",
              "    </tr>\n",
              "    <tr>\n",
              "      <th>35350</th>\n",
              "      <td>[['D0', 'C78', 'C67', 'D0'], ['D0', 'C24', 'D0...</td>\n",
              "      <td>RandomDestroyStation, ProbabilisticBestRepairS...</td>\n",
              "      <td>14742.127590</td>\n",
              "      <td>11918.782800</td>\n",
              "      <td>2823.344791</td>\n",
              "    </tr>\n",
              "    <tr>\n",
              "      <th>35375</th>\n",
              "      <td>[['D0', 'C24', 'D0'], ['D0', 'C5', 'C77', 'C78...</td>\n",
              "      <td>RandomDestroyStation, DeterministicBestRepairS...</td>\n",
              "      <td>7297.435520</td>\n",
              "      <td>7297.381645</td>\n",
              "      <td>0.053875</td>\n",
              "    </tr>\n",
              "    <tr>\n",
              "      <th>35385</th>\n",
              "      <td>[['D0', 'C5', 'C2', 'C1', 'C14', 'C25', 'C21',...</td>\n",
              "      <td>RandomDestroyStation, DeterministicBestRepairS...</td>\n",
              "      <td>4844.669310</td>\n",
              "      <td>4843.734853</td>\n",
              "      <td>0.934457</td>\n",
              "    </tr>\n",
              "    <tr>\n",
              "      <th>35390</th>\n",
              "      <td>[['D0', 'C5', 'C2', 'C1', 'C14', 'C25', 'S9', ...</td>\n",
              "      <td>RandomDestroyStation, DeterministicBestRepairS...</td>\n",
              "      <td>4838.020483</td>\n",
              "      <td>4811.496557</td>\n",
              "      <td>26.523926</td>\n",
              "    </tr>\n",
              "  </tbody>\n",
              "</table>\n",
              "<p>477 rows × 5 columns</p>\n",
              "</div>\n",
              "      <button class=\"colab-df-convert\" onclick=\"convertToInteractive('df-b1f23a8b-41dc-4737-b7be-63c7b7c31835')\"\n",
              "              title=\"Convert this dataframe to an interactive table.\"\n",
              "              style=\"display:none;\">\n",
              "        \n",
              "  <svg xmlns=\"http://www.w3.org/2000/svg\" height=\"24px\"viewBox=\"0 0 24 24\"\n",
              "       width=\"24px\">\n",
              "    <path d=\"M0 0h24v24H0V0z\" fill=\"none\"/>\n",
              "    <path d=\"M18.56 5.44l.94 2.06.94-2.06 2.06-.94-2.06-.94-.94-2.06-.94 2.06-2.06.94zm-11 1L8.5 8.5l.94-2.06 2.06-.94-2.06-.94L8.5 2.5l-.94 2.06-2.06.94zm10 10l.94 2.06.94-2.06 2.06-.94-2.06-.94-.94-2.06-.94 2.06-2.06.94z\"/><path d=\"M17.41 7.96l-1.37-1.37c-.4-.4-.92-.59-1.43-.59-.52 0-1.04.2-1.43.59L10.3 9.45l-7.72 7.72c-.78.78-.78 2.05 0 2.83L4 21.41c.39.39.9.59 1.41.59.51 0 1.02-.2 1.41-.59l7.78-7.78 2.81-2.81c.8-.78.8-2.07 0-2.86zM5.41 20L4 18.59l7.72-7.72 1.47 1.35L5.41 20z\"/>\n",
              "  </svg>\n",
              "      </button>\n",
              "      \n",
              "  <style>\n",
              "    .colab-df-container {\n",
              "      display:flex;\n",
              "      flex-wrap:wrap;\n",
              "      gap: 12px;\n",
              "    }\n",
              "\n",
              "    .colab-df-convert {\n",
              "      background-color: #E8F0FE;\n",
              "      border: none;\n",
              "      border-radius: 50%;\n",
              "      cursor: pointer;\n",
              "      display: none;\n",
              "      fill: #1967D2;\n",
              "      height: 32px;\n",
              "      padding: 0 0 0 0;\n",
              "      width: 32px;\n",
              "    }\n",
              "\n",
              "    .colab-df-convert:hover {\n",
              "      background-color: #E2EBFA;\n",
              "      box-shadow: 0px 1px 2px rgba(60, 64, 67, 0.3), 0px 1px 3px 1px rgba(60, 64, 67, 0.15);\n",
              "      fill: #174EA6;\n",
              "    }\n",
              "\n",
              "    [theme=dark] .colab-df-convert {\n",
              "      background-color: #3B4455;\n",
              "      fill: #D2E3FC;\n",
              "    }\n",
              "\n",
              "    [theme=dark] .colab-df-convert:hover {\n",
              "      background-color: #434B5C;\n",
              "      box-shadow: 0px 1px 3px 1px rgba(0, 0, 0, 0.15);\n",
              "      filter: drop-shadow(0px 1px 2px rgba(0, 0, 0, 0.3));\n",
              "      fill: #FFFFFF;\n",
              "    }\n",
              "  </style>\n",
              "\n",
              "      <script>\n",
              "        const buttonEl =\n",
              "          document.querySelector('#df-b1f23a8b-41dc-4737-b7be-63c7b7c31835 button.colab-df-convert');\n",
              "        buttonEl.style.display =\n",
              "          google.colab.kernel.accessAllowed ? 'block' : 'none';\n",
              "\n",
              "        async function convertToInteractive(key) {\n",
              "          const element = document.querySelector('#df-b1f23a8b-41dc-4737-b7be-63c7b7c31835');\n",
              "          const dataTable =\n",
              "            await google.colab.kernel.invokeFunction('convertToInteractive',\n",
              "                                                     [key], {});\n",
              "          if (!dataTable) return;\n",
              "\n",
              "          const docLinkHtml = 'Like what you see? Visit the ' +\n",
              "            '<a target=\"_blank\" href=https://colab.research.google.com/notebooks/data_table.ipynb>data table notebook</a>'\n",
              "            + ' to learn more about interactive tables.';\n",
              "          element.innerHTML = '';\n",
              "          dataTable['output_type'] = 'display_data';\n",
              "          await google.colab.output.renderOutput(dataTable, element);\n",
              "          const docLink = document.createElement('div');\n",
              "          docLink.innerHTML = docLinkHtml;\n",
              "          element.appendChild(docLink);\n",
              "        }\n",
              "      </script>\n",
              "    </div>\n",
              "  </div>\n",
              "  "
            ]
          },
          "metadata": {},
          "execution_count": 4
        }
      ]
    },
    {
      "cell_type": "code",
      "source": [
        "init_sol = data['Initial Solution']\n",
        "init_sol.head(10)\n",
        "\n",
        "#path isolation -> all paths of all indices are included in the sol list\n",
        "sol = []\n",
        "for row in init_sol:\n",
        "    for elem in row.split(\"[' \"):\n",
        "        sol.append(elem)\n",
        "\n",
        "for i in range(len(sol)):\n",
        "    sol[i] = sol[i].replace(\"[['\",\"\")\n",
        "    sol[i] = sol[i].replace(\"']]\",\"\")\n",
        "    sol[i] = sol[i].replace(\"'\",\"\")\n",
        "    sol[i] = sol[i].replace(\",\",\"\")\n",
        "    sol[i] = sol[i].replace(\"[\",\"\")    \n",
        "    \n",
        "for i in range(len(sol)):\n",
        "    sol[i] = sol[i].split('] ')"
      ],
      "metadata": {
        "id": "X_bzngIYn545"
      },
      "execution_count": 5,
      "outputs": []
    },
    {
      "cell_type": "code",
      "source": [
        "data[\"Initial Solution\"] = data[\"Initial Solution\"].str.replace(\"[\",\"\")\n",
        "data[\"Initial Solution\"] = data[\"Initial Solution\"].str.replace(\"]\",\"\")\n",
        "data[\"Initial Solution\"] = data[\"Initial Solution\"].str.replace(\",\",\"\")\n",
        "data[\"Initial Solution\"] = data[\"Initial Solution\"].str.replace(\"'\",\"\")\n",
        "\n",
        "init_sol = data[\"Initial Solution\"]\n",
        "\n",
        "places = []\n",
        "for row in init_sol:\n",
        "    for elem in row.split():\n",
        "        places.append(elem)\n",
        "\n",
        "places = np.array(places)\n",
        "distinct_places = np.unique(places)\n",
        "\n",
        "print(distinct_places)\n",
        "print(len(distinct_places))"
      ],
      "metadata": {
        "colab": {
          "base_uri": "https://localhost:8080/"
        },
        "id": "MxZrMR-sol1G",
        "outputId": "9a02f9b5-4734-45f7-ae8e-f5e017e2b372"
      },
      "execution_count": 6,
      "outputs": [
        {
          "output_type": "stream",
          "name": "stdout",
          "text": [
            "['C1' 'C10' 'C100' 'C11' 'C12' 'C13' 'C14' 'C15' 'C16' 'C17' 'C18' 'C19'\n",
            " 'C2' 'C20' 'C21' 'C22' 'C23' 'C24' 'C25' 'C26' 'C27' 'C28' 'C29' 'C3'\n",
            " 'C30' 'C31' 'C32' 'C33' 'C34' 'C35' 'C36' 'C37' 'C38' 'C39' 'C4' 'C40'\n",
            " 'C41' 'C42' 'C43' 'C44' 'C45' 'C46' 'C47' 'C48' 'C49' 'C5' 'C50' 'C51'\n",
            " 'C52' 'C53' 'C54' 'C55' 'C56' 'C57' 'C58' 'C59' 'C6' 'C60' 'C61' 'C62'\n",
            " 'C63' 'C64' 'C65' 'C66' 'C67' 'C68' 'C69' 'C7' 'C70' 'C71' 'C72' 'C73'\n",
            " 'C74' 'C75' 'C76' 'C77' 'C78' 'C79' 'C8' 'C80' 'C81' 'C82' 'C83' 'C84'\n",
            " 'C85' 'C86' 'C87' 'C88' 'C89' 'C9' 'C90' 'C91' 'C92' 'C93' 'C94' 'C95'\n",
            " 'C96' 'C97' 'C98' 'C99' 'D0' 'S0' 'S1' 'S10' 'S11' 'S12' 'S13' 'S14'\n",
            " 'S15' 'S16' 'S17' 'S18' 'S19' 'S2' 'S20' 'S3' 'S4' 'S5' 'S7' 'S9']\n",
            "120\n"
          ]
        },
        {
          "output_type": "stream",
          "name": "stderr",
          "text": [
            "<ipython-input-6-1fdab60055f0>:1: SettingWithCopyWarning: \n",
            "A value is trying to be set on a copy of a slice from a DataFrame.\n",
            "Try using .loc[row_indexer,col_indexer] = value instead\n",
            "\n",
            "See the caveats in the documentation: https://pandas.pydata.org/pandas-docs/stable/user_guide/indexing.html#returning-a-view-versus-a-copy\n",
            "  data[\"Initial Solution\"] = data[\"Initial Solution\"].str.replace(\"[\",\"\")\n",
            "<ipython-input-6-1fdab60055f0>:2: SettingWithCopyWarning: \n",
            "A value is trying to be set on a copy of a slice from a DataFrame.\n",
            "Try using .loc[row_indexer,col_indexer] = value instead\n",
            "\n",
            "See the caveats in the documentation: https://pandas.pydata.org/pandas-docs/stable/user_guide/indexing.html#returning-a-view-versus-a-copy\n",
            "  data[\"Initial Solution\"] = data[\"Initial Solution\"].str.replace(\"]\",\"\")\n",
            "<ipython-input-6-1fdab60055f0>:3: SettingWithCopyWarning: \n",
            "A value is trying to be set on a copy of a slice from a DataFrame.\n",
            "Try using .loc[row_indexer,col_indexer] = value instead\n",
            "\n",
            "See the caveats in the documentation: https://pandas.pydata.org/pandas-docs/stable/user_guide/indexing.html#returning-a-view-versus-a-copy\n",
            "  data[\"Initial Solution\"] = data[\"Initial Solution\"].str.replace(\",\",\"\")\n",
            "<ipython-input-6-1fdab60055f0>:4: SettingWithCopyWarning: \n",
            "A value is trying to be set on a copy of a slice from a DataFrame.\n",
            "Try using .loc[row_indexer,col_indexer] = value instead\n",
            "\n",
            "See the caveats in the documentation: https://pandas.pydata.org/pandas-docs/stable/user_guide/indexing.html#returning-a-view-versus-a-copy\n",
            "  data[\"Initial Solution\"] = data[\"Initial Solution\"].str.replace(\"'\",\"\")\n"
          ]
        }
      ]
    },
    {
      "cell_type": "code",
      "source": [
        "# empty list\n",
        "lista_principale = [] # contains n elements, each element contains n dataframes related to the n-th index\n",
        "\n",
        "for index_ext, value_ext in enumerate(sol):\n",
        "    \n",
        "    lista_dataframe = []\n",
        "    for index_int, value_int in enumerate(value_ext):\n",
        "\n",
        "        #print(type(value_ext, value_int))\n",
        "        zeros = np.zeros([len(distinct_places), len(distinct_places)])\n",
        "        df = pd.DataFrame(zeros, index=distinct_places, columns=distinct_places)\n",
        "\n",
        "        temp_string = value_int\n",
        "\n",
        "        split = temp_string.split(\" \")\n",
        "        split = np.array(split)\n",
        "\n",
        "        for i in range(len(split)-1):\n",
        "\n",
        "            df.loc[split[i], split[i+1]] = 1\n",
        "\n",
        "        lista_dataframe.append(df)\n",
        "\n",
        "    # sum of the resulting dataframes into a single dataframe\n",
        "    df_sum = lista_dataframe[0]\n",
        "    for i in range (1, len(lista_dataframe)):\n",
        "        df_sum = df_sum.add(lista_dataframe[i])\n",
        "\n",
        "    # insert the sum dataframe in the main list\n",
        "    lista_principale.append(df_sum)"
      ],
      "metadata": {
        "id": "22_hMPJ6oo16"
      },
      "execution_count": 7,
      "outputs": []
    },
    {
      "cell_type": "code",
      "source": [
        "X = np.array([df.to_numpy() for df in lista_principale])\n",
        "X"
      ],
      "metadata": {
        "colab": {
          "base_uri": "https://localhost:8080/"
        },
        "id": "IjmAe7Q6or7W",
        "outputId": "eb12fd30-8930-4639-9425-37927753f9fb"
      },
      "execution_count": 8,
      "outputs": [
        {
          "output_type": "execute_result",
          "data": {
            "text/plain": [
              "array([[[0., 0., 0., ..., 0., 0., 0.],\n",
              "        [0., 0., 0., ..., 0., 0., 0.],\n",
              "        [0., 0., 0., ..., 0., 0., 0.],\n",
              "        ...,\n",
              "        [0., 0., 0., ..., 0., 0., 0.],\n",
              "        [0., 0., 0., ..., 0., 0., 0.],\n",
              "        [0., 0., 0., ..., 0., 0., 0.]],\n",
              "\n",
              "       [[0., 0., 0., ..., 0., 0., 0.],\n",
              "        [0., 0., 0., ..., 0., 0., 0.],\n",
              "        [0., 0., 0., ..., 0., 0., 0.],\n",
              "        ...,\n",
              "        [0., 0., 0., ..., 0., 0., 0.],\n",
              "        [0., 0., 0., ..., 0., 0., 0.],\n",
              "        [0., 0., 0., ..., 0., 0., 0.]],\n",
              "\n",
              "       [[0., 0., 0., ..., 0., 0., 0.],\n",
              "        [0., 0., 0., ..., 0., 0., 0.],\n",
              "        [0., 0., 0., ..., 0., 0., 0.],\n",
              "        ...,\n",
              "        [0., 0., 0., ..., 0., 0., 0.],\n",
              "        [0., 0., 0., ..., 0., 1., 0.],\n",
              "        [0., 0., 0., ..., 0., 0., 0.]],\n",
              "\n",
              "       ...,\n",
              "\n",
              "       [[0., 0., 0., ..., 0., 0., 0.],\n",
              "        [0., 0., 0., ..., 0., 0., 0.],\n",
              "        [0., 0., 0., ..., 0., 0., 0.],\n",
              "        ...,\n",
              "        [0., 0., 0., ..., 0., 0., 0.],\n",
              "        [0., 0., 0., ..., 0., 0., 0.],\n",
              "        [0., 0., 0., ..., 0., 0., 0.]],\n",
              "\n",
              "       [[0., 0., 0., ..., 0., 0., 0.],\n",
              "        [0., 0., 0., ..., 0., 0., 0.],\n",
              "        [0., 0., 0., ..., 0., 0., 0.],\n",
              "        ...,\n",
              "        [0., 0., 0., ..., 0., 0., 0.],\n",
              "        [0., 0., 0., ..., 0., 0., 0.],\n",
              "        [0., 0., 0., ..., 0., 0., 0.]],\n",
              "\n",
              "       [[0., 0., 0., ..., 0., 0., 0.],\n",
              "        [0., 0., 0., ..., 0., 0., 0.],\n",
              "        [0., 0., 0., ..., 0., 0., 0.],\n",
              "        ...,\n",
              "        [0., 0., 0., ..., 0., 0., 0.],\n",
              "        [0., 0., 0., ..., 0., 0., 0.],\n",
              "        [0., 0., 0., ..., 0., 0., 0.]]])"
            ]
          },
          "metadata": {},
          "execution_count": 8
        }
      ]
    },
    {
      "cell_type": "code",
      "source": [
        "my_list = [pd.DataFrame(np.random.randint(10, size=(120, 120))) for _ in range(800)]\n",
        "\n",
        "out = np.array([df.to_numpy() for df in my_list])"
      ],
      "metadata": {
        "id": "znSIj2p5o0hT"
      },
      "execution_count": 9,
      "outputs": []
    },
    {
      "cell_type": "code",
      "source": [
        "improvement = pd.Series()\n",
        "data['Improvement'] = improvement\n",
        "\n",
        "label = pd.Series()\n",
        "data['Label'] = label\n",
        "\n",
        "#matrix = pd.Series(array)\n",
        "#data['Matrix'] = matrix.values\n",
        "\n",
        "#image = pd.Series()\n",
        "#data['Image'] = image\n",
        "\n",
        "data.head()"
      ],
      "metadata": {
        "colab": {
          "base_uri": "https://localhost:8080/",
          "height": 426
        },
        "id": "iiZORNSOo4vB",
        "outputId": "fa3db7f7-6311-4b4e-de68-fbc3d258a09c"
      },
      "execution_count": 10,
      "outputs": [
        {
          "output_type": "stream",
          "name": "stderr",
          "text": [
            "<ipython-input-10-1281ec744aa5>:1: DeprecationWarning: The default dtype for empty Series will be 'object' instead of 'float64' in a future version. Specify a dtype explicitly to silence this warning.\n",
            "  improvement = pd.Series()\n",
            "<ipython-input-10-1281ec744aa5>:4: DeprecationWarning: The default dtype for empty Series will be 'object' instead of 'float64' in a future version. Specify a dtype explicitly to silence this warning.\n",
            "  label = pd.Series()\n"
          ]
        },
        {
          "output_type": "execute_result",
          "data": {
            "text/plain": [
              "                                      Initial Solution  \\\n",
              "49   D0 C26 C25 D0 D0 C24 C6 D0 D0 C91 D0 D0 C50 D0...   \n",
              "64   D0 C21 C25 C24 D0 D0 C50 D0 D0 C81 S1 C85 C90 ...   \n",
              "79   D0 C81 S1 C85 C90 D0 D0 C18 C15 C16 S7 D0 D0 C...   \n",
              "169  D0 C50 S11 D0 D0 C90 C91 C82 S20 C81 D0 D0 C18...   \n",
              "199  D0 C50 D0 D0 C90 C91 C82 S20 C81 D0 D0 C18 C15...   \n",
              "\n",
              "                                                 Moves         OFIS  \\\n",
              "49   RandomDestroyStation, DeterministicBestRepairS...  16249.43924   \n",
              "64   RandomDestroyStation, ProbabilisticBestRepairS...  14991.37565   \n",
              "79   RandomDestroyStation, ProbabilisticBestRepairS...  11347.28909   \n",
              "169  RandomDestroyStation, ProbabilisticBestRepairS...  11388.61563   \n",
              "199  RandomDestroyStation, DeterministicBestRepairS...  10162.38381   \n",
              "\n",
              "            OFFS      OF_Diff  Improvement  Label  \n",
              "49   16221.64776    27.791482          NaN    NaN  \n",
              "64   13775.89995  1215.475703          NaN    NaN  \n",
              "79   11335.31474    11.974343          NaN    NaN  \n",
              "169  11375.96048    12.655152          NaN    NaN  \n",
              "199  10153.08379     9.300018          NaN    NaN  "
            ],
            "text/html": [
              "\n",
              "  <div id=\"df-8edf0608-e5c7-4458-a81b-618fa3112825\">\n",
              "    <div class=\"colab-df-container\">\n",
              "      <div>\n",
              "<style scoped>\n",
              "    .dataframe tbody tr th:only-of-type {\n",
              "        vertical-align: middle;\n",
              "    }\n",
              "\n",
              "    .dataframe tbody tr th {\n",
              "        vertical-align: top;\n",
              "    }\n",
              "\n",
              "    .dataframe thead th {\n",
              "        text-align: right;\n",
              "    }\n",
              "</style>\n",
              "<table border=\"1\" class=\"dataframe\">\n",
              "  <thead>\n",
              "    <tr style=\"text-align: right;\">\n",
              "      <th></th>\n",
              "      <th>Initial Solution</th>\n",
              "      <th>Moves</th>\n",
              "      <th>OFIS</th>\n",
              "      <th>OFFS</th>\n",
              "      <th>OF_Diff</th>\n",
              "      <th>Improvement</th>\n",
              "      <th>Label</th>\n",
              "    </tr>\n",
              "  </thead>\n",
              "  <tbody>\n",
              "    <tr>\n",
              "      <th>49</th>\n",
              "      <td>D0 C26 C25 D0 D0 C24 C6 D0 D0 C91 D0 D0 C50 D0...</td>\n",
              "      <td>RandomDestroyStation, DeterministicBestRepairS...</td>\n",
              "      <td>16249.43924</td>\n",
              "      <td>16221.64776</td>\n",
              "      <td>27.791482</td>\n",
              "      <td>NaN</td>\n",
              "      <td>NaN</td>\n",
              "    </tr>\n",
              "    <tr>\n",
              "      <th>64</th>\n",
              "      <td>D0 C21 C25 C24 D0 D0 C50 D0 D0 C81 S1 C85 C90 ...</td>\n",
              "      <td>RandomDestroyStation, ProbabilisticBestRepairS...</td>\n",
              "      <td>14991.37565</td>\n",
              "      <td>13775.89995</td>\n",
              "      <td>1215.475703</td>\n",
              "      <td>NaN</td>\n",
              "      <td>NaN</td>\n",
              "    </tr>\n",
              "    <tr>\n",
              "      <th>79</th>\n",
              "      <td>D0 C81 S1 C85 C90 D0 D0 C18 C15 C16 S7 D0 D0 C...</td>\n",
              "      <td>RandomDestroyStation, ProbabilisticBestRepairS...</td>\n",
              "      <td>11347.28909</td>\n",
              "      <td>11335.31474</td>\n",
              "      <td>11.974343</td>\n",
              "      <td>NaN</td>\n",
              "      <td>NaN</td>\n",
              "    </tr>\n",
              "    <tr>\n",
              "      <th>169</th>\n",
              "      <td>D0 C50 S11 D0 D0 C90 C91 C82 S20 C81 D0 D0 C18...</td>\n",
              "      <td>RandomDestroyStation, ProbabilisticBestRepairS...</td>\n",
              "      <td>11388.61563</td>\n",
              "      <td>11375.96048</td>\n",
              "      <td>12.655152</td>\n",
              "      <td>NaN</td>\n",
              "      <td>NaN</td>\n",
              "    </tr>\n",
              "    <tr>\n",
              "      <th>199</th>\n",
              "      <td>D0 C50 D0 D0 C90 C91 C82 S20 C81 D0 D0 C18 C15...</td>\n",
              "      <td>RandomDestroyStation, DeterministicBestRepairS...</td>\n",
              "      <td>10162.38381</td>\n",
              "      <td>10153.08379</td>\n",
              "      <td>9.300018</td>\n",
              "      <td>NaN</td>\n",
              "      <td>NaN</td>\n",
              "    </tr>\n",
              "  </tbody>\n",
              "</table>\n",
              "</div>\n",
              "      <button class=\"colab-df-convert\" onclick=\"convertToInteractive('df-8edf0608-e5c7-4458-a81b-618fa3112825')\"\n",
              "              title=\"Convert this dataframe to an interactive table.\"\n",
              "              style=\"display:none;\">\n",
              "        \n",
              "  <svg xmlns=\"http://www.w3.org/2000/svg\" height=\"24px\"viewBox=\"0 0 24 24\"\n",
              "       width=\"24px\">\n",
              "    <path d=\"M0 0h24v24H0V0z\" fill=\"none\"/>\n",
              "    <path d=\"M18.56 5.44l.94 2.06.94-2.06 2.06-.94-2.06-.94-.94-2.06-.94 2.06-2.06.94zm-11 1L8.5 8.5l.94-2.06 2.06-.94-2.06-.94L8.5 2.5l-.94 2.06-2.06.94zm10 10l.94 2.06.94-2.06 2.06-.94-2.06-.94-.94-2.06-.94 2.06-2.06.94z\"/><path d=\"M17.41 7.96l-1.37-1.37c-.4-.4-.92-.59-1.43-.59-.52 0-1.04.2-1.43.59L10.3 9.45l-7.72 7.72c-.78.78-.78 2.05 0 2.83L4 21.41c.39.39.9.59 1.41.59.51 0 1.02-.2 1.41-.59l7.78-7.78 2.81-2.81c.8-.78.8-2.07 0-2.86zM5.41 20L4 18.59l7.72-7.72 1.47 1.35L5.41 20z\"/>\n",
              "  </svg>\n",
              "      </button>\n",
              "      \n",
              "  <style>\n",
              "    .colab-df-container {\n",
              "      display:flex;\n",
              "      flex-wrap:wrap;\n",
              "      gap: 12px;\n",
              "    }\n",
              "\n",
              "    .colab-df-convert {\n",
              "      background-color: #E8F0FE;\n",
              "      border: none;\n",
              "      border-radius: 50%;\n",
              "      cursor: pointer;\n",
              "      display: none;\n",
              "      fill: #1967D2;\n",
              "      height: 32px;\n",
              "      padding: 0 0 0 0;\n",
              "      width: 32px;\n",
              "    }\n",
              "\n",
              "    .colab-df-convert:hover {\n",
              "      background-color: #E2EBFA;\n",
              "      box-shadow: 0px 1px 2px rgba(60, 64, 67, 0.3), 0px 1px 3px 1px rgba(60, 64, 67, 0.15);\n",
              "      fill: #174EA6;\n",
              "    }\n",
              "\n",
              "    [theme=dark] .colab-df-convert {\n",
              "      background-color: #3B4455;\n",
              "      fill: #D2E3FC;\n",
              "    }\n",
              "\n",
              "    [theme=dark] .colab-df-convert:hover {\n",
              "      background-color: #434B5C;\n",
              "      box-shadow: 0px 1px 3px 1px rgba(0, 0, 0, 0.15);\n",
              "      filter: drop-shadow(0px 1px 2px rgba(0, 0, 0, 0.3));\n",
              "      fill: #FFFFFF;\n",
              "    }\n",
              "  </style>\n",
              "\n",
              "      <script>\n",
              "        const buttonEl =\n",
              "          document.querySelector('#df-8edf0608-e5c7-4458-a81b-618fa3112825 button.colab-df-convert');\n",
              "        buttonEl.style.display =\n",
              "          google.colab.kernel.accessAllowed ? 'block' : 'none';\n",
              "\n",
              "        async function convertToInteractive(key) {\n",
              "          const element = document.querySelector('#df-8edf0608-e5c7-4458-a81b-618fa3112825');\n",
              "          const dataTable =\n",
              "            await google.colab.kernel.invokeFunction('convertToInteractive',\n",
              "                                                     [key], {});\n",
              "          if (!dataTable) return;\n",
              "\n",
              "          const docLinkHtml = 'Like what you see? Visit the ' +\n",
              "            '<a target=\"_blank\" href=https://colab.research.google.com/notebooks/data_table.ipynb>data table notebook</a>'\n",
              "            + ' to learn more about interactive tables.';\n",
              "          element.innerHTML = '';\n",
              "          dataTable['output_type'] = 'display_data';\n",
              "          await google.colab.output.renderOutput(dataTable, element);\n",
              "          const docLink = document.createElement('div');\n",
              "          docLink.innerHTML = docLinkHtml;\n",
              "          element.appendChild(docLink);\n",
              "        }\n",
              "      </script>\n",
              "    </div>\n",
              "  </div>\n",
              "  "
            ]
          },
          "metadata": {},
          "execution_count": 10
        }
      ]
    },
    {
      "cell_type": "code",
      "source": [
        "conditions = [\n",
        "    (data['OF_Diff'] < 0), #negativo\n",
        "    (data['OF_Diff'] >= 0) & (data['OF_Diff'] < 2), #zero\n",
        "    (data['OF_Diff'] >= 2) & (data['OF_Diff'] < 25), #poco\n",
        "    (data['OF_Diff'] >= 25) & (data['OF_Diff'] < 60), #medio\n",
        "    (data['OF_Diff'] >= 60) #molto\n",
        "]\n",
        "\n",
        "classi = [\"Negativo\", \"Zero\", \"Poco\", \"Medio\", \"Molto\"]\n",
        "label = [0, 1, 2, 3, 4]\n",
        "\n",
        "data['Improvement'] = np.select(conditions, classi)\n",
        "data[\"Label\"] = np.select(conditions, label)\n",
        "\n",
        "data.head()"
      ],
      "metadata": {
        "colab": {
          "base_uri": "https://localhost:8080/",
          "height": 337
        },
        "id": "gDZzWfIpo7x3",
        "outputId": "7900df5d-155c-415a-c9be-ef0eb3c8d80c"
      },
      "execution_count": 11,
      "outputs": [
        {
          "output_type": "execute_result",
          "data": {
            "text/plain": [
              "                                      Initial Solution  \\\n",
              "49   D0 C26 C25 D0 D0 C24 C6 D0 D0 C91 D0 D0 C50 D0...   \n",
              "64   D0 C21 C25 C24 D0 D0 C50 D0 D0 C81 S1 C85 C90 ...   \n",
              "79   D0 C81 S1 C85 C90 D0 D0 C18 C15 C16 S7 D0 D0 C...   \n",
              "169  D0 C50 S11 D0 D0 C90 C91 C82 S20 C81 D0 D0 C18...   \n",
              "199  D0 C50 D0 D0 C90 C91 C82 S20 C81 D0 D0 C18 C15...   \n",
              "\n",
              "                                                 Moves         OFIS  \\\n",
              "49   RandomDestroyStation, DeterministicBestRepairS...  16249.43924   \n",
              "64   RandomDestroyStation, ProbabilisticBestRepairS...  14991.37565   \n",
              "79   RandomDestroyStation, ProbabilisticBestRepairS...  11347.28909   \n",
              "169  RandomDestroyStation, ProbabilisticBestRepairS...  11388.61563   \n",
              "199  RandomDestroyStation, DeterministicBestRepairS...  10162.38381   \n",
              "\n",
              "            OFFS      OF_Diff Improvement  Label  \n",
              "49   16221.64776    27.791482       Medio      3  \n",
              "64   13775.89995  1215.475703       Molto      4  \n",
              "79   11335.31474    11.974343        Poco      2  \n",
              "169  11375.96048    12.655152        Poco      2  \n",
              "199  10153.08379     9.300018        Poco      2  "
            ],
            "text/html": [
              "\n",
              "  <div id=\"df-eb3252a7-ef52-49bc-ab67-5c07a37fd456\">\n",
              "    <div class=\"colab-df-container\">\n",
              "      <div>\n",
              "<style scoped>\n",
              "    .dataframe tbody tr th:only-of-type {\n",
              "        vertical-align: middle;\n",
              "    }\n",
              "\n",
              "    .dataframe tbody tr th {\n",
              "        vertical-align: top;\n",
              "    }\n",
              "\n",
              "    .dataframe thead th {\n",
              "        text-align: right;\n",
              "    }\n",
              "</style>\n",
              "<table border=\"1\" class=\"dataframe\">\n",
              "  <thead>\n",
              "    <tr style=\"text-align: right;\">\n",
              "      <th></th>\n",
              "      <th>Initial Solution</th>\n",
              "      <th>Moves</th>\n",
              "      <th>OFIS</th>\n",
              "      <th>OFFS</th>\n",
              "      <th>OF_Diff</th>\n",
              "      <th>Improvement</th>\n",
              "      <th>Label</th>\n",
              "    </tr>\n",
              "  </thead>\n",
              "  <tbody>\n",
              "    <tr>\n",
              "      <th>49</th>\n",
              "      <td>D0 C26 C25 D0 D0 C24 C6 D0 D0 C91 D0 D0 C50 D0...</td>\n",
              "      <td>RandomDestroyStation, DeterministicBestRepairS...</td>\n",
              "      <td>16249.43924</td>\n",
              "      <td>16221.64776</td>\n",
              "      <td>27.791482</td>\n",
              "      <td>Medio</td>\n",
              "      <td>3</td>\n",
              "    </tr>\n",
              "    <tr>\n",
              "      <th>64</th>\n",
              "      <td>D0 C21 C25 C24 D0 D0 C50 D0 D0 C81 S1 C85 C90 ...</td>\n",
              "      <td>RandomDestroyStation, ProbabilisticBestRepairS...</td>\n",
              "      <td>14991.37565</td>\n",
              "      <td>13775.89995</td>\n",
              "      <td>1215.475703</td>\n",
              "      <td>Molto</td>\n",
              "      <td>4</td>\n",
              "    </tr>\n",
              "    <tr>\n",
              "      <th>79</th>\n",
              "      <td>D0 C81 S1 C85 C90 D0 D0 C18 C15 C16 S7 D0 D0 C...</td>\n",
              "      <td>RandomDestroyStation, ProbabilisticBestRepairS...</td>\n",
              "      <td>11347.28909</td>\n",
              "      <td>11335.31474</td>\n",
              "      <td>11.974343</td>\n",
              "      <td>Poco</td>\n",
              "      <td>2</td>\n",
              "    </tr>\n",
              "    <tr>\n",
              "      <th>169</th>\n",
              "      <td>D0 C50 S11 D0 D0 C90 C91 C82 S20 C81 D0 D0 C18...</td>\n",
              "      <td>RandomDestroyStation, ProbabilisticBestRepairS...</td>\n",
              "      <td>11388.61563</td>\n",
              "      <td>11375.96048</td>\n",
              "      <td>12.655152</td>\n",
              "      <td>Poco</td>\n",
              "      <td>2</td>\n",
              "    </tr>\n",
              "    <tr>\n",
              "      <th>199</th>\n",
              "      <td>D0 C50 D0 D0 C90 C91 C82 S20 C81 D0 D0 C18 C15...</td>\n",
              "      <td>RandomDestroyStation, DeterministicBestRepairS...</td>\n",
              "      <td>10162.38381</td>\n",
              "      <td>10153.08379</td>\n",
              "      <td>9.300018</td>\n",
              "      <td>Poco</td>\n",
              "      <td>2</td>\n",
              "    </tr>\n",
              "  </tbody>\n",
              "</table>\n",
              "</div>\n",
              "      <button class=\"colab-df-convert\" onclick=\"convertToInteractive('df-eb3252a7-ef52-49bc-ab67-5c07a37fd456')\"\n",
              "              title=\"Convert this dataframe to an interactive table.\"\n",
              "              style=\"display:none;\">\n",
              "        \n",
              "  <svg xmlns=\"http://www.w3.org/2000/svg\" height=\"24px\"viewBox=\"0 0 24 24\"\n",
              "       width=\"24px\">\n",
              "    <path d=\"M0 0h24v24H0V0z\" fill=\"none\"/>\n",
              "    <path d=\"M18.56 5.44l.94 2.06.94-2.06 2.06-.94-2.06-.94-.94-2.06-.94 2.06-2.06.94zm-11 1L8.5 8.5l.94-2.06 2.06-.94-2.06-.94L8.5 2.5l-.94 2.06-2.06.94zm10 10l.94 2.06.94-2.06 2.06-.94-2.06-.94-.94-2.06-.94 2.06-2.06.94z\"/><path d=\"M17.41 7.96l-1.37-1.37c-.4-.4-.92-.59-1.43-.59-.52 0-1.04.2-1.43.59L10.3 9.45l-7.72 7.72c-.78.78-.78 2.05 0 2.83L4 21.41c.39.39.9.59 1.41.59.51 0 1.02-.2 1.41-.59l7.78-7.78 2.81-2.81c.8-.78.8-2.07 0-2.86zM5.41 20L4 18.59l7.72-7.72 1.47 1.35L5.41 20z\"/>\n",
              "  </svg>\n",
              "      </button>\n",
              "      \n",
              "  <style>\n",
              "    .colab-df-container {\n",
              "      display:flex;\n",
              "      flex-wrap:wrap;\n",
              "      gap: 12px;\n",
              "    }\n",
              "\n",
              "    .colab-df-convert {\n",
              "      background-color: #E8F0FE;\n",
              "      border: none;\n",
              "      border-radius: 50%;\n",
              "      cursor: pointer;\n",
              "      display: none;\n",
              "      fill: #1967D2;\n",
              "      height: 32px;\n",
              "      padding: 0 0 0 0;\n",
              "      width: 32px;\n",
              "    }\n",
              "\n",
              "    .colab-df-convert:hover {\n",
              "      background-color: #E2EBFA;\n",
              "      box-shadow: 0px 1px 2px rgba(60, 64, 67, 0.3), 0px 1px 3px 1px rgba(60, 64, 67, 0.15);\n",
              "      fill: #174EA6;\n",
              "    }\n",
              "\n",
              "    [theme=dark] .colab-df-convert {\n",
              "      background-color: #3B4455;\n",
              "      fill: #D2E3FC;\n",
              "    }\n",
              "\n",
              "    [theme=dark] .colab-df-convert:hover {\n",
              "      background-color: #434B5C;\n",
              "      box-shadow: 0px 1px 3px 1px rgba(0, 0, 0, 0.15);\n",
              "      filter: drop-shadow(0px 1px 2px rgba(0, 0, 0, 0.3));\n",
              "      fill: #FFFFFF;\n",
              "    }\n",
              "  </style>\n",
              "\n",
              "      <script>\n",
              "        const buttonEl =\n",
              "          document.querySelector('#df-eb3252a7-ef52-49bc-ab67-5c07a37fd456 button.colab-df-convert');\n",
              "        buttonEl.style.display =\n",
              "          google.colab.kernel.accessAllowed ? 'block' : 'none';\n",
              "\n",
              "        async function convertToInteractive(key) {\n",
              "          const element = document.querySelector('#df-eb3252a7-ef52-49bc-ab67-5c07a37fd456');\n",
              "          const dataTable =\n",
              "            await google.colab.kernel.invokeFunction('convertToInteractive',\n",
              "                                                     [key], {});\n",
              "          if (!dataTable) return;\n",
              "\n",
              "          const docLinkHtml = 'Like what you see? Visit the ' +\n",
              "            '<a target=\"_blank\" href=https://colab.research.google.com/notebooks/data_table.ipynb>data table notebook</a>'\n",
              "            + ' to learn more about interactive tables.';\n",
              "          element.innerHTML = '';\n",
              "          dataTable['output_type'] = 'display_data';\n",
              "          await google.colab.output.renderOutput(dataTable, element);\n",
              "          const docLink = document.createElement('div');\n",
              "          docLink.innerHTML = docLinkHtml;\n",
              "          element.appendChild(docLink);\n",
              "        }\n",
              "      </script>\n",
              "    </div>\n",
              "  </div>\n",
              "  "
            ]
          },
          "metadata": {},
          "execution_count": 11
        }
      ]
    },
    {
      "cell_type": "code",
      "source": [
        "X.shape\n"
      ],
      "metadata": {
        "colab": {
          "base_uri": "https://localhost:8080/"
        },
        "id": "qf5T0uaSo-58",
        "outputId": "66b5af1d-18e4-40c0-8035-313f86ffdf87"
      },
      "execution_count": 12,
      "outputs": [
        {
          "output_type": "execute_result",
          "data": {
            "text/plain": [
              "(477, 120, 120)"
            ]
          },
          "metadata": {},
          "execution_count": 12
        }
      ]
    },
    {
      "cell_type": "code",
      "source": [
        "y = data[\"Label\"].values"
      ],
      "metadata": {
        "id": "CPLZJEO8pBSO"
      },
      "execution_count": 13,
      "outputs": []
    },
    {
      "cell_type": "code",
      "source": [
        "y.shape"
      ],
      "metadata": {
        "colab": {
          "base_uri": "https://localhost:8080/"
        },
        "id": "p1Z9Go-NpDXl",
        "outputId": "49d012e9-8a1c-4d78-96fa-55886eb2058c"
      },
      "execution_count": 14,
      "outputs": [
        {
          "output_type": "execute_result",
          "data": {
            "text/plain": [
              "(477,)"
            ]
          },
          "metadata": {},
          "execution_count": 14
        }
      ]
    },
    {
      "cell_type": "code",
      "source": [
        "from sklearn.model_selection import train_test_split"
      ],
      "metadata": {
        "id": "wxleuUCZpE43"
      },
      "execution_count": 15,
      "outputs": []
    },
    {
      "cell_type": "code",
      "source": [
        "x_train,x_test,y_train,y_test = train_test_split(X,y,test_size = 0.2 , random_state = 42)"
      ],
      "metadata": {
        "id": "G48pyXKNpc_t"
      },
      "execution_count": 16,
      "outputs": []
    },
    {
      "cell_type": "code",
      "source": [
        "x_train.shape"
      ],
      "metadata": {
        "colab": {
          "base_uri": "https://localhost:8080/"
        },
        "id": "Qx-ABiu5pusr",
        "outputId": "957fe05b-83e1-4f99-d2de-d64f8cc88d26"
      },
      "execution_count": 17,
      "outputs": [
        {
          "output_type": "execute_result",
          "data": {
            "text/plain": [
              "(381, 120, 120)"
            ]
          },
          "metadata": {},
          "execution_count": 17
        }
      ]
    },
    {
      "cell_type": "code",
      "source": [
        "x_test.shape"
      ],
      "metadata": {
        "colab": {
          "base_uri": "https://localhost:8080/"
        },
        "id": "3PhCfcWCp4lD",
        "outputId": "25f12647-228c-410d-c634-e6595ab14e8c"
      },
      "execution_count": 18,
      "outputs": [
        {
          "output_type": "execute_result",
          "data": {
            "text/plain": [
              "(96, 120, 120)"
            ]
          },
          "metadata": {},
          "execution_count": 18
        }
      ]
    },
    {
      "cell_type": "code",
      "source": [
        "y_train.shape"
      ],
      "metadata": {
        "colab": {
          "base_uri": "https://localhost:8080/"
        },
        "id": "qraGo6I8szAb",
        "outputId": "a550b60b-5f7e-4b5b-91c9-adca6f24fd39"
      },
      "execution_count": 19,
      "outputs": [
        {
          "output_type": "execute_result",
          "data": {
            "text/plain": [
              "(381,)"
            ]
          },
          "metadata": {},
          "execution_count": 19
        }
      ]
    },
    {
      "cell_type": "code",
      "source": [
        "x_train = np.reshape(x_train, (x_train.shape[0], x_train.shape[1], x_train.shape[2], 1))\n",
        "y_train = np.reshape(y_train, (y_train.shape[0], 1))"
      ],
      "metadata": {
        "id": "KiMBrNZbuYyj"
      },
      "execution_count": 20,
      "outputs": []
    },
    {
      "cell_type": "code",
      "source": [
        "x_test = np.reshape(x_test, (x_test.shape[0], x_test.shape[1], x_test.shape[2], 1))\n",
        "y_test = np.reshape(y_test, (y_test.shape[0], 1))"
      ],
      "metadata": {
        "id": "IizYzp3pwXl9"
      },
      "execution_count": 21,
      "outputs": []
    },
    {
      "cell_type": "code",
      "source": [
        "x_test.shape"
      ],
      "metadata": {
        "id": "TDgovxp930bQ",
        "outputId": "80c30fff-614b-41d2-a56b-37e50ad8caa7",
        "colab": {
          "base_uri": "https://localhost:8080/"
        }
      },
      "execution_count": 31,
      "outputs": [
        {
          "output_type": "execute_result",
          "data": {
            "text/plain": [
              "(96, 120, 120, 1)"
            ]
          },
          "metadata": {},
          "execution_count": 31
        }
      ]
    },
    {
      "cell_type": "code",
      "source": [
        "y_test.shape"
      ],
      "metadata": {
        "id": "smDrE5Ee30-k",
        "outputId": "461278c2-389e-422b-cacd-cd20f777ab24",
        "colab": {
          "base_uri": "https://localhost:8080/"
        }
      },
      "execution_count": 32,
      "outputs": [
        {
          "output_type": "execute_result",
          "data": {
            "text/plain": [
              "(96, 1)"
            ]
          },
          "metadata": {},
          "execution_count": 32
        }
      ]
    },
    {
      "cell_type": "code",
      "source": [
        "x_train.shape"
      ],
      "metadata": {
        "colab": {
          "base_uri": "https://localhost:8080/"
        },
        "id": "U3huGQftuu83",
        "outputId": "9f1146ac-6e42-47fe-bb8a-8e233821a26e"
      },
      "execution_count": 22,
      "outputs": [
        {
          "output_type": "execute_result",
          "data": {
            "text/plain": [
              "(381, 120, 120, 1)"
            ]
          },
          "metadata": {},
          "execution_count": 22
        }
      ]
    },
    {
      "cell_type": "code",
      "source": [
        "y_train.shape"
      ],
      "metadata": {
        "colab": {
          "base_uri": "https://localhost:8080/"
        },
        "id": "buQsquZVuxEn",
        "outputId": "f699ba35-5af0-451f-a066-10cefff7d80f"
      },
      "execution_count": 23,
      "outputs": [
        {
          "output_type": "execute_result",
          "data": {
            "text/plain": [
              "(381, 1)"
            ]
          },
          "metadata": {},
          "execution_count": 23
        }
      ]
    },
    {
      "cell_type": "code",
      "source": [
        "from keras.models import Sequential\n",
        "from keras.layers import Conv2D, MaxPooling2D, Flatten, Dense, Dropout\n",
        "\n",
        "# Create a sequential model\n",
        "model = Sequential()\n",
        "\n",
        "# Add a convolutional layer with 32 filters, a kernel size of 3x3, and 'same' padding\n",
        "model.add(Conv2D(32, kernel_size=(3, 3), activation='relu', input_shape=(120, 120, 1), padding='same'))\n",
        "\n",
        "# Add a second convolutional layer with 64 filters, a kernel size of 3x3 and 'same' padding\n",
        "model.add(Conv2D(64, kernel_size=(3, 3), activation='relu', padding='same'))\n",
        "\n",
        "# Add a max pooling layer with a pool size of 2x2\n",
        "model.add(MaxPooling2D(pool_size=(2, 2)))\n",
        "\n",
        "# Add a dropout layer with a dropout rate of 0.25\n",
        "model.add(Dropout(0.25))\n",
        "\n",
        "# Add a flatten layer\n",
        "model.add(Flatten())\n",
        "\n",
        "# Add a dense layer with 128 units and 'relu' activation\n",
        "model.add(Dense(128, activation='relu'))\n",
        "\n",
        "# Add a dropout layer with a dropout rate of 0.5\n",
        "model.add(Dropout(0.5))\n",
        "\n",
        "# Add an output layer with 1 unit and 'sigmoid' activation\n",
        "model.add(Dense(1, activation='sigmoid'))\n",
        "\n",
        "# Compile the model with binary crossentropy loss and 'adam' optimizer\n",
        "model.compile(loss='binary_crossentropy', optimizer='adam')"
      ],
      "metadata": {
        "id": "su7i-Liou1pQ"
      },
      "execution_count": 24,
      "outputs": []
    },
    {
      "cell_type": "code",
      "source": [
        "model.summary()"
      ],
      "metadata": {
        "colab": {
          "base_uri": "https://localhost:8080/"
        },
        "id": "Ner3fRTwvETy",
        "outputId": "8d34fb3c-c80d-4f82-9a56-f849ce72ca5a"
      },
      "execution_count": 25,
      "outputs": [
        {
          "output_type": "stream",
          "name": "stdout",
          "text": [
            "Model: \"sequential\"\n",
            "_________________________________________________________________\n",
            " Layer (type)                Output Shape              Param #   \n",
            "=================================================================\n",
            " conv2d (Conv2D)             (None, 120, 120, 32)      320       \n",
            "                                                                 \n",
            " conv2d_1 (Conv2D)           (None, 120, 120, 64)      18496     \n",
            "                                                                 \n",
            " max_pooling2d (MaxPooling2D  (None, 60, 60, 64)       0         \n",
            " )                                                               \n",
            "                                                                 \n",
            " dropout (Dropout)           (None, 60, 60, 64)        0         \n",
            "                                                                 \n",
            " flatten (Flatten)           (None, 230400)            0         \n",
            "                                                                 \n",
            " dense (Dense)               (None, 128)               29491328  \n",
            "                                                                 \n",
            " dropout_1 (Dropout)         (None, 128)               0         \n",
            "                                                                 \n",
            " dense_1 (Dense)             (None, 1)                 129       \n",
            "                                                                 \n",
            "=================================================================\n",
            "Total params: 29,510,273\n",
            "Trainable params: 29,510,273\n",
            "Non-trainable params: 0\n",
            "_________________________________________________________________\n"
          ]
        }
      ]
    },
    {
      "cell_type": "code",
      "source": [
        "history = model.fit(x_train, y_train,validation_data=(x_test,y_test),epochs=10, batch_size=32)"
      ],
      "metadata": {
        "colab": {
          "base_uri": "https://localhost:8080/"
        },
        "id": "zy3MOfbjvHGw",
        "outputId": "cc8068d9-ed4c-4a45-fdb8-fcb87e3dcad8"
      },
      "execution_count": 28,
      "outputs": [
        {
          "output_type": "stream",
          "name": "stdout",
          "text": [
            "Epoch 1/10\n",
            "12/12 [==============================] - 31s 2s/step - loss: -214.8974 - val_loss: -1072.9512\n",
            "Epoch 2/10\n",
            "12/12 [==============================] - 23s 2s/step - loss: -4185.2876 - val_loss: -11331.5010\n",
            "Epoch 3/10\n",
            "12/12 [==============================] - 23s 2s/step - loss: -24935.9941 - val_loss: -56392.2773\n",
            "Epoch 4/10\n",
            "12/12 [==============================] - 24s 2s/step - loss: -103816.3984 - val_loss: -193569.5781\n",
            "Epoch 5/10\n",
            "12/12 [==============================] - 24s 2s/step - loss: -307366.5625 - val_loss: -533877.1875\n",
            "Epoch 6/10\n",
            "12/12 [==============================] - 25s 2s/step - loss: -773964.6250 - val_loss: -1253420.3750\n",
            "Epoch 7/10\n",
            "12/12 [==============================] - 24s 2s/step - loss: -1696760.2500 - val_loss: -2592746.5000\n",
            "Epoch 8/10\n",
            "12/12 [==============================] - 24s 2s/step - loss: -3281729.7500 - val_loss: -4920938.0000\n",
            "Epoch 9/10\n",
            "12/12 [==============================] - 24s 2s/step - loss: -6212791.5000 - val_loss: -8704996.0000\n",
            "Epoch 10/10\n",
            "12/12 [==============================] - 23s 2s/step - loss: -10406038.0000 - val_loss: -14490540.0000\n"
          ]
        }
      ]
    },
    {
      "cell_type": "code",
      "source": [
        "import matplotlib.pyplot as plt\n",
        "\n",
        "# Plot the training loss\n",
        "plt.plot(history.history['loss'])\n",
        "# Plot the validation loss\n",
        "plt.plot(history.history['val_loss'])\n",
        "plt.title('Model loss')\n",
        "plt.ylabel('Loss')\n",
        "plt.xlabel('Epoch')\n",
        "plt.legend(['Train', 'Validation'], loc='upper right')\n",
        "plt.show()\n",
        "\n"
      ],
      "metadata": {
        "colab": {
          "base_uri": "https://localhost:8080/",
          "height": 295
        },
        "id": "w6v9J7ofvLzv",
        "outputId": "09e02a8b-1cd8-4852-fac4-7df44134d2c6"
      },
      "execution_count": 29,
      "outputs": [
        {
          "output_type": "display_data",
          "data": {
            "text/plain": [
              "<Figure size 432x288 with 1 Axes>"
            ],
            "image/png": "[encoded data removed]"
          },
          "metadata": {
            "needs_background": "light"
          }
        }
      ]
    },
    {
      "cell_type": "code",
      "source": [],
      "metadata": {
        "id": "PvnaogG-5gl5"
      },
      "execution_count": null,
      "outputs": []
    }
  ]
}